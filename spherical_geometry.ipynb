{
 "cells": [
  {
   "cell_type": "markdown",
   "source": [
    "# Finding closest point on given line of longitude\n",
    "#### Given longitude and latitude of a point P=($\\theta_1$, $\\lambda_1$) and a latitude $\\lambda_2$, let's find longitude $\\theta_2$ such that, great-circle distance $d$ (distance along the surface of a sphere) is the smallest."
   ],
   "metadata": {
    "collapsed": false
   },
   "id": "8827f062e285d004"
  },
  {
   "cell_type": "markdown",
   "source": [
    "#### Let's simplify this problem: given two points A=($\\theta_A$, $\\lambda_A$), B=($\\theta_B$, $\\lambda_B$) find their great-circle distance $d$\n",
    "This [wikipedia article](https://en.wikipedia.org/wiki/Great-circle_distance) let's us explore this topic.\n",
    "All we have to do is to find the central angle $\\Delta\\sigma$ (the angle between OA and OC, where O is the sphere's center). Note that $\\frac{d}{2\\pi R} = \\frac{\\Delta\\sigma}{2\\pi}$, which concludes the search of d.\n",
    "Now using the formula\n",
    "$\\Delta\\sigma =\n",
    "2\\arcsin \\sqrt{ \\sin^{2}\\frac{\\theta_B-\\theta_A}{2} +\n",
    "(1 - \\sin^{2}\\frac{\\theta_B-\\theta_A}{2}\n",
    "\\sin^{2}\\frac{\\theta_A+\\theta_B}{2}) \\cdot\n",
    "\\sin^{2}\\frac{\\lambda_B-\\lambda_A}{2}}$\n",
    "We are able to calculate $\\Delta\\sigma$ thus calculating $d$."
   ],
   "metadata": {
    "collapsed": false
   },
   "id": "da4f9d48d9784a89"
  },
  {
   "cell_type": "markdown",
   "source": [
    "![sphere.png](gcd_sphere.png \"graet-circle distance\")"
   ],
   "metadata": {
    "collapsed": false
   },
   "id": "16d57e121a9fdf38"
  },
  {
   "cell_type": "markdown",
   "source": [
    "#### Now that we can calculate the great-circle distance, let's come back to the original problem.\n",
    "\n",
    "Let's introduce some substitutions:\n",
    "* $x=\\Phi_2$\n",
    "* $A=\\Phi_1$\n",
    "* $B=\\sin^{2}\\frac{\\lambda_2-\\lambda_1}{2}$\n",
    "Now the equation looks like this:\n",
    "$\\Delta\\sigma = \n",
    "2\\arcsin \\sqrt{ \\sin^{2}\\frac{x-A}{2} +\n",
    "(1 - \\sin^{2}\\frac{x-A}{2}\n",
    "     \\sin^{2}\\frac{x+A}{2}) \\cdot\n",
    "     B$\n",
    "     \n",
    "Let's calculate the first derivative\n",
    "$\\frac{2}{\\sqrt{1-t}} \\cdot\n",
    "\\frac{1}{2\\sqrt{t}} \\cdot\n",
    "(\\frac{\\sin x-A}{2} - \\frac{B\\sin x+A}{2} - \\frac{B\\sin x-A}{2})$\n",
    "where $t=\n",
    "\\sin^{2}\\frac{x-A}{2} +\n",
    "(1 - \\sin^{2}\\frac{x-A}{2}\n",
    "\\sin^{2}\\frac{x+A}{2}) \\cdot\n",
    "B$\n",
    "\n",
    "The function reaches extreme when its derivative is equal 0\n",
    "$\\sin(x-A) - B(\\sin(x+A) + \\sin(x-A)) = 0$\n",
    "\n",
    "Using some simple transformations we get\n",
    "$x = \\arctan\\frac{\\tan A}{1-2B} + k\\pi$\n",
    "\n",
    "And finally\n",
    "$\\Phi_2 = \\arctan{\\frac{\\tan \\Phi_1}{1-2sin^{2}\\frac{\\lambda_2-\\lambda_1}{2}} + k\\pi$"
   ],
   "metadata": {
    "collapsed": false
   },
   "id": "5f8358bada10a5f0"
  },
  {
   "cell_type": "markdown",
   "source": [
    "    ### Checkout [Desmos graph]('https://www.desmos.com/calculator/2iyi19yuiv')\n",
    "![gcd_graph.png](gcd_graph.png \"graet-circle distance\")"
   ],
   "metadata": {
    "collapsed": false
   },
   "id": "3946f64f11d03f2c"
  },
  {
   "cell_type": "code",
   "execution_count": 1,
   "outputs": [],
   "source": [
    "import numpy as np"
   ],
   "metadata": {
    "collapsed": false,
    "ExecuteTime": {
     "end_time": "2023-08-08T16:13:57.639454808Z",
     "start_time": "2023-08-08T16:13:57.586542140Z"
    }
   },
   "id": "6fcb8dfb49c87bc3"
  },
  {
   "cell_type": "code",
   "execution_count": 2,
   "outputs": [],
   "source": [
    "# this is a different version of the same formula\n",
    "def dist(long1, lat1, long2, lat2):\n",
    "    \"\"\"\n",
    "        a = sin²(Δϕ/2) + cos(ϕ1)cos(ϕ2)sin²(Δλ/2)\n",
    "        d = 2R*arctan2(sqrt(a),sqrt(1−a))\n",
    "    \"\"\"\n",
    "    long1, lat1 = np.deg2rad(long1), np.deg2rad(lat1),\n",
    "    long2, lat2 = np.deg2rad(long2), np.deg2rad(lat2),\n",
    "    R = 1\n",
    "    a = np.sin((lat2 - lat1) / 2) ** 2 + np.cos(lat1) * np.cos(lat2) * np.sin((long2 - long1) / 2) ** 2\n",
    "    d = (2 * R * np.arctan2(np.sqrt(a), np.sqrt(1 - a)))\n",
    "    return d"
   ],
   "metadata": {
    "collapsed": false,
    "ExecuteTime": {
     "end_time": "2023-08-08T16:13:57.650944104Z",
     "start_time": "2023-08-08T16:13:57.638673880Z"
    }
   },
   "id": "13fc824ea020f0e7"
  },
  {
   "cell_type": "code",
   "execution_count": 3,
   "outputs": [],
   "source": [
    "def calc_extremes(long1, lat1, long2):\n",
    "    long1r, lat1r, long2r = np.deg2rad([long1, lat1, long2])\n",
    "    lat2 = np.arctan(np.tan(lat1r) / (1 - 2 * (np.sin((long2r - long1r) / 2) ** 2))) * 180 / np.pi\n",
    "\n",
    "    # since we are considering only a semicircle, the other extreme will be at one of the poles\n",
    "    # if we were to consider the whole circle, then the other point would be at lat2+pi\n",
    "    # with distance equal 2piR/2-dist\n",
    "    candidate_points = [(long2, lat2), (long2, -90), (long2, 90)]\n",
    "    distances = [dist(long1, lat1, *p) for p in candidate_points]\n",
    "    points_distances = list(zip(candidate_points, distances))\n",
    "\n",
    "    return (min(points_distances, key=lambda x: x[1]),\n",
    "            max(points_distances, key=lambda x: x[1]))"
   ],
   "metadata": {
    "collapsed": false,
    "ExecuteTime": {
     "end_time": "2023-08-08T16:13:57.667792693Z",
     "start_time": "2023-08-08T16:13:57.649408752Z"
    }
   },
   "id": "bbbcfa61425250ae"
  },
  {
   "cell_type": "code",
   "execution_count": 4,
   "outputs": [
    {
     "name": "stdout",
     "output_type": "stream",
     "text": [
      "Minimum = 0.7267750543196971 at (45.0, 27.236313475170725)\n",
      "Maximum = 1.9198621771937625 at (45.0, -90)\n"
     ]
    }
   ],
   "source": [
    "LONG1, LAT1 = 0, 20.0\n",
    "LONG2 = 45.0\n",
    "\n",
    "extremes = calc_extremes(LONG1, LAT1, LONG2)\n",
    "print(f'Minimum = {extremes[0][1]} at {extremes[0][0]}')\n",
    "print(f'Maximum = {extremes[1][1]} at {extremes[1][0]}')"
   ],
   "metadata": {
    "collapsed": false,
    "ExecuteTime": {
     "end_time": "2023-08-08T16:13:57.696639641Z",
     "start_time": "2023-08-08T16:13:57.659598946Z"
    }
   },
   "id": "f360f56c371b9ab4"
  },
  {
   "cell_type": "code",
   "execution_count": 4,
   "outputs": [],
   "source": [],
   "metadata": {
    "collapsed": false,
    "ExecuteTime": {
     "end_time": "2023-08-08T16:13:57.697424183Z",
     "start_time": "2023-08-08T16:13:57.666704125Z"
    }
   },
   "id": "52317a9a4e0c1496"
  }
 ],
 "metadata": {
  "kernelspec": {
   "display_name": "Python 3",
   "language": "python",
   "name": "python3"
  },
  "language_info": {
   "codemirror_mode": {
    "name": "ipython",
    "version": 2
   },
   "file_extension": ".py",
   "mimetype": "text/x-python",
   "name": "python",
   "nbconvert_exporter": "python",
   "pygments_lexer": "ipython2",
   "version": "2.7.6"
  }
 },
 "nbformat": 4,
 "nbformat_minor": 5
}
