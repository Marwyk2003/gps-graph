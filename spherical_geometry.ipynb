{
 "cells": [
  {
   "cell_type": "markdown",
   "source": [
    "# Finding closest point on given line of longitude\n",
    "#### Given longitude and latitude of a point P=($\\theta_1$, $\\lambda_1$) and a latitude $\\lambda_2$, let's find longitude $\\theta_2$ such that, great-circle distance $d$ (distance along the surface of a sphere) is the smallest."
   ],
   "metadata": {
    "collapsed": false
   },
   "id": "8827f062e285d004"
  },
  {
   "cell_type": "markdown",
   "source": [
    "#### Let's simplify this problem: given two points A=($\\theta_A$, $\\lambda_A$), B=($\\theta_B$, $\\lambda_B$) find their great-circle distance $d$\n",
    "This [wikipedia article](https://en.wikipedia.org/wiki/Great-circle_distance) let's us explore this topic.\n",
    "All we have to do is to find the central angle $\\Delta\\sigma$ (the angle between OA and OC, where O is the sphere's center). Note that $\\frac{d}{2\\pi R} = \\frac{\\Delta\\sigma}{2\\pi}$, which concludes the search of d.\n",
    "Now using the formula\n",
    "$\\Delta\\sigma =\n",
    "2\\arcsin \\sqrt{ \\sin^{2}\\frac{\\theta_B-\\theta_A}{2} +\n",
    "(1 - \\sin^{2}\\frac{\\theta_B-\\theta_A}{2}\n",
    "\\sin^{2}\\frac{\\theta_A+\\theta_B}{2}) \\cdot\n",
    "\\sin^{2}\\frac{\\lambda_B-\\lambda_A}{2}}$\n",
    "We are able to calculate $\\Delta\\sigma$ thus calculating $d$."
   ],
   "metadata": {
    "collapsed": false
   },
   "id": "da4f9d48d9784a89"
  },
  {
   "cell_type": "markdown",
   "source": [
    "![sphere.png](gcd_sphere.png \"graet-circle distance\")"
   ],
   "metadata": {
    "collapsed": false
   },
   "id": "16d57e121a9fdf38"
  },
  {
   "cell_type": "markdown",
   "source": [
    "#### Now that we can calculate the great-circle distance, let's come back to the original problem.\n",
    "\n",
    "Let's introduce some substitutions:\n",
    "* $x=\\Phi_2$\n",
    "* $A=\\Phi_1$\n",
    "* $B=\\sin^{2}\\frac{\\lambda_2-\\lambda_1}{2}$\n",
    "Now the equation looks like this:\n",
    "$\\Delta\\sigma = \n",
    "2\\arcsin \\sqrt{ \\sin^{2}\\frac{x-A}{2} +\n",
    "(1 - \\sin^{2}\\frac{x-A}{2}\n",
    "     \\sin^{2}\\frac{x+A}{2}) \\cdot\n",
    "     B$\n",
    "     \n",
    "Let's calculate the first derivative\n",
    "$\\frac{2}{\\sqrt{1-t}} \\cdot\n",
    "\\frac{1}{2\\sqrt{t}} \\cdot\n",
    "(\\frac{\\sin x-A}{2} - \\frac{B\\sin x+A}{2} - \\frac{B\\sin x-A}{2})$\n",
    "where $t=\n",
    "\\sin^{2}\\frac{x-A}{2} +\n",
    "(1 - \\sin^{2}\\frac{x-A}{2}\n",
    "\\sin^{2}\\frac{x+A}{2}) \\cdot\n",
    "B$\n",
    "\n",
    "The function reaches extreme when its derivative is equal 0\n",
    "$\\sin(x-A) - B(\\sin(x+A) + \\sin(x-A)) = 0$\n",
    "\n",
    "Using some simple transformations we get\n",
    "$x = \\arctan\\frac{\\tan A}{1-2B} + k\\pi$\n",
    "\n",
    "And finally\n",
    "$\\Phi_2 = \\arctan{\\frac{\\tan \\Phi_1}{1-2sin^{2}\\frac{\\lambda_2-\\lambda_1}{2}} + k\\pi$"
   ],
   "metadata": {
    "collapsed": false
   },
   "id": "5f8358bada10a5f0"
  },
  {
   "cell_type": "markdown",
   "source": [
    "### Checkout [Desmos graph]('https://www.desmos.com/calculator/2iyi19yuiv')\n",
    "![gcd_graph.png](gcd_graph.png \"graet-circle distance\")"
   ],
   "metadata": {
    "collapsed": false
   },
   "id": "3946f64f11d03f2c"
  },
  {
   "cell_type": "code",
   "execution_count": null,
   "outputs": [],
   "source": [],
   "metadata": {
    "collapsed": false,
    "ExecuteTime": {
     "end_time": "2023-08-07T19:31:09.950972097Z",
     "start_time": "2023-08-07T19:31:09.948566659Z"
    }
   },
   "id": "cd601072251546d2"
  }
 ],
 "metadata": {
  "kernelspec": {
   "display_name": "Python 3",
   "language": "python",
   "name": "python3"
  },
  "language_info": {
   "codemirror_mode": {
    "name": "ipython",
    "version": 2
   },
   "file_extension": ".py",
   "mimetype": "text/x-python",
   "name": "python",
   "nbconvert_exporter": "python",
   "pygments_lexer": "ipython2",
   "version": "2.7.6"
  }
 },
 "nbformat": 4,
 "nbformat_minor": 5
}
