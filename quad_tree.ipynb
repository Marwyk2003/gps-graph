{
 "cells": [
  {
   "cell_type": "code",
   "execution_count": 1,
   "outputs": [],
   "source": [
    "from random import randint\n",
    "import matplotlib.pyplot as plt"
   ],
   "metadata": {
    "collapsed": false,
    "ExecuteTime": {
     "end_time": "2023-08-06T20:52:50.634302998Z",
     "start_time": "2023-08-06T20:52:50.587324861Z"
    }
   },
   "id": "6ff965d72a5a13af"
  },
  {
   "cell_type": "code",
   "execution_count": 2,
   "outputs": [],
   "source": [
    "class QuadNode:\n",
    "    def __init__(self, x1, y1, x2, y2):\n",
    "        self.x1, self.x2 = min(x1, x2), max(x1, x2)\n",
    "        self.y1, self.y2 = min(y1, y2), max(y1, y2)\n",
    "        self.children = {'NW': None, 'NE': None, 'SE': None, 'SW': None}\n",
    "        self.point = None\n",
    "        self.leaf = True\n",
    "\n",
    "    def insert(self, x, y):\n",
    "        if self.point is None and self.leaf:\n",
    "            # quad is an empty leaf, change its value\n",
    "            self.point = (x, y)\n",
    "        else:\n",
    "            q_key, q_bound = self.quarter(x, y)\n",
    "            if self.children[q_key] is None:\n",
    "                # split quad\n",
    "                self.children[q_key] = QuadNode(*q_bound)\n",
    "            # make it its child problem\n",
    "            self.children[q_key].insert(x, y)\n",
    "\n",
    "            if self.point is not None:\n",
    "                # insert quads value if it was a leaf before\n",
    "                q2_key, q2_bound = self.quarter(*self.point)\n",
    "                if self.children[q2_key] is None:\n",
    "                    self.children[q2_key] = QuadNode(*q2_bound)\n",
    "                self.children[q2_key].insert(*self.point)\n",
    "                self.point = None\n",
    "\n",
    "            self.leaf = False\n",
    "\n",
    "    def find_closest(self, x, y, min_dist=float('inf')):\n",
    "        if self.leaf:\n",
    "            if self.point is None:\n",
    "                return None\n",
    "            dist = ((x - self.point[0]) ** 2 + (y - self.point[1]) ** 2) ** 0.5\n",
    "            if dist < min_dist:\n",
    "                return self.point\n",
    "        elif self.dist(x, y) >= min_dist:\n",
    "            # check if all points in square are too far\n",
    "            return None\n",
    "        else:\n",
    "            min_p = None\n",
    "            children = filter(lambda q: q is not None, self.children.values())\n",
    "            for v in sorted(children, key=lambda q: q.dist(x, y)):\n",
    "                # this should speed up converging\n",
    "                p = v.find_closest(x, y, min_dist)\n",
    "                if p is not None:\n",
    "                    # if p is not None then its distance is less than min_dist\n",
    "                    min_dist = ((x - p[0]) ** 2 + (y - p[1]) ** 2) ** 0.5\n",
    "                    min_p = p\n",
    "            return min_p\n",
    "        return None\n",
    "\n",
    "    def quarter(self, x, y):\n",
    "        if not (self.x1 <= x < self.x2 and self.y1 <= y < self.y2):\n",
    "            raise Exception('Point outside quad boundaries')\n",
    "        qx, qy = 2 * x < self.x1 + self.x2, 2 * y < self.y1 + self.y2\n",
    "        if not qx and not qy:\n",
    "            return 'NE', ((self.x1 + self.x2) / 2, (self.y1 + self.y2) / 2, self.x2, self.y2)\n",
    "        if not qx and qy:\n",
    "            return 'SE', ((self.x1 + self.x2) / 2, self.y1, self.x2, (self.y1 + self.y2) / 2)\n",
    "        if qx and qy:\n",
    "            return 'SW', (self.x1, self.y1, (self.x1 + self.x2) / 2, (self.y1 + self.y2) / 2)\n",
    "        if qx and not qy:\n",
    "            return 'NW', (self.x1, (self.y1 + self.y2) / 2, (self.x1 + self.x2) / 2, self.y2)\n",
    "\n",
    "    def dist(self, x, y):\n",
    "        if self.x1 <= x <= self.x2 and self.y1 <= y <= self.y2:\n",
    "            # inside the square\n",
    "            return 0\n",
    "        if self.x1 <= x <= self.x2:\n",
    "            # upper and bottom side\n",
    "            return min(abs(self.y1 - y), abs(self.y2 - y))\n",
    "        if self.x1 <= x <= self.x2:\n",
    "            # left and right side\n",
    "            return min(abs(self.x1 - x), abs(self.x2 - x))\n",
    "        # distance to corners\n",
    "        return min([((self.x1 - x) ** 2 + (self.y1 - y) ** 2) ** 0.5,\n",
    "                    ((self.x1 - x) ** 2 + (self.y2 - y) ** 2) ** 0.5,\n",
    "                    ((self.x2 - x) ** 2 + (self.y1 - y) ** 2) ** 0.5,\n",
    "                    ((self.x2 - x) ** 2 + (self.y2 - y) ** 2) ** 0.5])\n",
    "\n",
    "    def plot(self):\n",
    "        plt.gca().add_patch(\n",
    "            plt.Rectangle((self.x1, self.y1), self.x2 - self.x1, self.y2 - self.y1,\n",
    "                          fill=False, edgecolor='orange', linewidth=2))\n",
    "        for c in self.children.values():\n",
    "            if isinstance(c, QuadNode):\n",
    "                c.plot()"
   ],
   "metadata": {
    "collapsed": false,
    "ExecuteTime": {
     "end_time": "2023-08-06T20:52:50.681348291Z",
     "start_time": "2023-08-06T20:52:50.608176837Z"
    }
   },
   "id": "initial_id"
  },
  {
   "cell_type": "code",
   "execution_count": 3,
   "outputs": [
    {
     "data": {
      "text/plain": "[(18.5, 19.5),\n (2.5, 8.5),\n (6.5, 26.5),\n (20.5, 22.5),\n (0.5, 4.5),\n (25.5, 24.5),\n (25.5, 30.5),\n (29.5, 21.5),\n (18.5, 30.5),\n (29.5, 27.5),\n (8.5, 4.5),\n (1.5, 4.5),\n (10.5, 10.5),\n (1.5, 25.5),\n (14.5, 1.5),\n (22.5, 5.5),\n (20.5, 20.5),\n (14.5, 10.5),\n (27.5, 13.5),\n (4.5, 30.5),\n (8.5, 18.5),\n (30.5, 27.5),\n (28.5, 27.5),\n (25.5, 16.5),\n (7.5, 7.5)]"
     },
     "execution_count": 3,
     "metadata": {},
     "output_type": "execute_result"
    }
   ],
   "source": [
    "W, H = 32, 32\n",
    "N = 25\n",
    "\n",
    "root = QuadNode(0, 0, W, H)\n",
    "points = list({(randint(0, W - 1) + 0.5, randint(0, H - 1) + 0.5) for i in range(N)})\n",
    "for x, y in points:\n",
    "    root.insert(x, y)\n",
    "points"
   ],
   "metadata": {
    "collapsed": false,
    "ExecuteTime": {
     "end_time": "2023-08-06T20:52:50.771485765Z",
     "start_time": "2023-08-06T20:52:50.686206172Z"
    }
   },
   "id": "7ebcd02384221442"
  },
  {
   "cell_type": "code",
   "execution_count": 4,
   "outputs": [
    {
     "data": {
      "text/plain": "((1.5, 0.5), (1.5, 4.5))"
     },
     "execution_count": 4,
     "metadata": {},
     "output_type": "execute_result"
    }
   ],
   "source": [
    "query_point = (randint(0, W) + 0.5, randint(0, H) + 0.5)\n",
    "closest_point = root.find_closest(*query_point)\n",
    "query_point, closest_point"
   ],
   "metadata": {
    "collapsed": false,
    "ExecuteTime": {
     "end_time": "2023-08-06T20:52:50.963445111Z",
     "start_time": "2023-08-06T20:52:50.747198028Z"
    }
   },
   "id": "bbaabfe27732658d"
  },
  {
   "cell_type": "code",
   "execution_count": 5,
   "outputs": [
    {
     "data": {
      "text/plain": "<Figure size 640x480 with 1 Axes>",
      "image/png": "[encoded data removed]"
     },
     "metadata": {},
     "output_type": "display_data"
    }
   ],
   "source": [
    "plt.gca().set_aspect('equal')\n",
    "\n",
    "plt.xlim(-1, W + 1)\n",
    "plt.ylim(-1, H + 1)\n",
    "x, y = list(zip(*points))\n",
    "plt.scatter(x, y)\n",
    "plt.scatter([query_point[0]], [query_point[1]], c='r', marker='x')\n",
    "plt.scatter([closest_point[0]], [closest_point[1]], c='g')\n",
    "root.plot()"
   ],
   "metadata": {
    "collapsed": false,
    "ExecuteTime": {
     "end_time": "2023-08-06T20:52:52.620161076Z",
     "start_time": "2023-08-06T20:52:50.790666897Z"
    }
   },
   "id": "6549b8abb8d3078e"
  },
  {
   "cell_type": "code",
   "execution_count": 5,
   "outputs": [],
   "source": [],
   "metadata": {
    "collapsed": false,
    "ExecuteTime": {
     "end_time": "2023-08-06T20:52:52.620844820Z",
     "start_time": "2023-08-06T20:52:52.513951698Z"
    }
   },
   "id": "dc24b4449c3bf89c"
  }
 ],
 "metadata": {
  "kernelspec": {
   "display_name": "Python 3",
   "language": "python",
   "name": "python3"
  },
  "language_info": {
   "codemirror_mode": {
    "name": "ipython",
    "version": 2
   },
   "file_extension": ".py",
   "mimetype": "text/x-python",
   "name": "python",
   "nbconvert_exporter": "python",
   "pygments_lexer": "ipython2",
   "version": "2.7.6"
  }
 },
 "nbformat": 4,
 "nbformat_minor": 5
}
